{
 "cells": [
  {
   "attachments": {},
   "cell_type": "markdown",
   "metadata": {},
   "source": [
    "# Machine learning introduction\n",
    "Tagging object and photos are clearly a machine learning play.\\\n",
    "Face recoginition of similar face inside your phone gallery.\\\n",
    "## Google\n",
    "- FFIt analyzes the test of the querry and adjusting the results based on your search history, personal interests, location etc..\n",
    "- Online shopping (Daraz vs Alibaba, vs Amazon vs Ebay) depensds on your location googles will predict and gives suggestion of different online shopping platform.\n",
    "## Other fields\n",
    "- Disease detection in plant/ human and animals\n",
    "- Genetic disturbances and prediction of diseases based on your nutrition intake\n",
    "- Bioinformatics\n",
    "- Cancer detection with proteomic analysis\n",
    "- Selection of best varieties\n",
    "- Selection of best nutrition based on your blood and ....analysis\n",
    "- Gut microbiome\n",
    "- Robotics, Softwares, engineering works and much more\n",
    "- Self driving, parking etc\n",
    "- Through out the world you write machine learning then its considered novel\n",
    "- Every one is using machine learning in its product\n",
    "- Now its becoming an expected feature\n",
    "- Same if someone wants to open the same website on their phone they can easily access\n",
    "- The day is comming soon thay everyone would say about personalized and sightful technology "
   ]
  },
  {
   "attachments": {},
   "cell_type": "markdown",
   "metadata": {},
   "source": [
    "## Data Driven\n",
    "Data --> Training --> Model --> Predict --> Decision making \n",
    "ML is important to predict hidden insights of publish_display_data\\\n",
    "**NOTE:**\n",
    "- Its much more difficult than your thinking"
   ]
  },
  {
   "attachments": {},
   "cell_type": "markdown",
   "metadata": {},
   "source": [
    "## Types of Machine Learning\n",
    "## What is machine learning?\n",
    "- As the name suggest, Machine learning allows machines to learn and make decisions smartly.\n",
    "- In Machine learning, machines can learn from the provided or their own experience. It depends upon the type of machine learning.\n",
    "Data --> Learning prediction --> Decision\n",
    "Data --> learning --> Prediction --> Decisions\n",
    "### 1. Supervised\n",
    "- Works under supervison\n",
    "- Teacher teaches\n",
    "- Prediction\n",
    "- Outcomes\\\n",
    "Explaination:\n",
    "Input data(80%) --> Training model and learning patterns of data(20%) --> prediction --> Output and reports\n",
    "#### Types\n",
    "- Classification\n",
    "  - For categories\n",
    "- Regression\n",
    "  - For numerical Data\n",
    "##### Supervised Learning algorithm\n",
    "- Logistic Regression.\n",
    "- K-Nearest Neighbors(K-NN)\n",
    "- Support Vector Machine(SVM)\n",
    "- Kernel SVM\n",
    "- Naive Bayes\n",
    "- Decision Tree Classification\n",
    "- Random Forest Classification\n",
    "### 2. Un-Supervised/Clustring\n",
    "- No supervision\n",
    "- No tracher\n",
    "- Self learning\n",
    "- No labelling of data\n",
    "- Find patterns by itself\\\n",
    "No input data\\\n",
    "Training model and learnig pattern of data (Clustring)--> Prediction--> Output and reports\n",
    "#### Un-Super Learning Algorithm\n",
    "- K-mean Clustering\n",
    "- Hierarchical Clustering\n",
    "- Probabalistics\n",
    "\n",
    "### 3. Semisupervised\n",
    "- Mixture on 1 and 2\n",
    "- Some data is labelled most is not\n",
    "\n",
    "Some labelled data and some Unlabelled data\\\n",
    "Input data (30-70%) -->Training model and learnig pattern of data (Clustring)--> Prediction--> Output and reports\n",
    "\n",
    "### 4. Reinforcement\n",
    "- Hit and Trial learning \n",
    "- Learn from mistakes\n",
    "- Reward and punisfhment rule\n",
    "- Prediction based on reward and punishment\n",
    "- Depends on feedback\n",
    "Input data--> Training model and learnig pattern of data (punish and reward)--> Prediction(learn)--> Output and reports\n",
    "#### Reinforcement Learning Algorithm\n",
    "- Model Free Reinforcement Learning\n",
    "  - Policy Optimization\n",
    "  - Q-Learning\n",
    "- Model-Based Reinforcement Learning\n",
    "  - Learn the Model\n",
    "  - Give the Model"
   ]
  },
  {
   "cell_type": "code",
   "execution_count": 1,
   "metadata": {},
   "outputs": [
    {
     "name": "stdout",
     "output_type": "stream",
     "text": [
      "[1, 2, 43, 4, 5]\n"
     ]
    }
   ],
   "source": [
    "x = [1,2,3,4,5]\n",
    "y = x\n",
    "y[2] = 43\n",
    "print(x)"
   ]
  },
  {
   "cell_type": "code",
   "execution_count": 8,
   "metadata": {},
   "outputs": [
    {
     "name": "stdout",
     "output_type": "stream",
     "text": [
      "BegiNNiNg\n"
     ]
    }
   ],
   "source": [
    "# Test 1 \n",
    "s = 'Beginning'\n",
    "a = s.find('nig')\n",
    "b = s.count('n')\n",
    "c = len(s)\n",
    "d = s.isupper()\n",
    "print(s.replace('n','N', a))"
   ]
  },
  {
   "cell_type": "code",
   "execution_count": 7,
   "metadata": {},
   "outputs": [
    {
     "name": "stdout",
     "output_type": "stream",
     "text": [
      "[1, 4, 9, 16]\n"
     ]
    }
   ],
   "source": [
    "# Test 2\n",
    "list1=[1,2,3,4]\n",
    "list2=[i**2 for i in list1]\n",
    "print(list2)"
   ]
  },
  {
   "cell_type": "code",
   "execution_count": null,
   "metadata": {},
   "outputs": [],
   "source": []
  },
  {
   "cell_type": "code",
   "execution_count": null,
   "metadata": {},
   "outputs": [],
   "source": []
  },
  {
   "cell_type": "code",
   "execution_count": null,
   "metadata": {},
   "outputs": [],
   "source": []
  }
 ],
 "metadata": {
  "kernelspec": {
   "display_name": "Python 3",
   "language": "python",
   "name": "python3"
  },
  "language_info": {
   "codemirror_mode": {
    "name": "ipython",
    "version": 3
   },
   "file_extension": ".py",
   "mimetype": "text/x-python",
   "name": "python",
   "nbconvert_exporter": "python",
   "pygments_lexer": "ipython3",
   "version": "3.11.1"
  },
  "orig_nbformat": 4,
  "vscode": {
   "interpreter": {
    "hash": "f8b049a1be62040d421b0919ad508cb129748722349ff390a066563fcb9d44af"
   }
  }
 },
 "nbformat": 4,
 "nbformat_minor": 2
}
